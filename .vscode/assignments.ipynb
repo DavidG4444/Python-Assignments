{
 "cells": [
  {
   "cell_type": "markdown",
   "id": "f9348326",
   "metadata": {},
   "source": [
    "ASSIGNMENT Q's"
   ]
  },
  {
   "cell_type": "code",
   "execution_count": 19,
   "id": "3cde4a52",
   "metadata": {},
   "outputs": [],
   "source": [
    "#Write a function that checks if a number is even or odd (normal function)\n",
    "def evenorodd():\n",
    "  num=int(input(\"Enter a number: \"))\n",
    "  if num % 2 ==0:\n",
    "   print(f\"{num} is an even number\")\n",
    "  else:\n",
    "   print(f\"{num} is an odd number\")"
   ]
  },
  {
   "cell_type": "code",
   "execution_count": 20,
   "id": "3b37d09e",
   "metadata": {},
   "outputs": [
    {
     "name": "stdout",
     "output_type": "stream",
     "text": [
      "76 is an even number\n"
     ]
    }
   ],
   "source": [
    "eod1=evenorodd()"
   ]
  },
  {
   "cell_type": "code",
   "execution_count": 23,
   "id": "a0a93a88",
   "metadata": {},
   "outputs": [],
   "source": [
    "#Write a python function that checks if a number is even or odd (lambda function)\n",
    "evenodd= lambda num: f\"{num} is even\" if num%2==0 else f\"{num} is odd\""
   ]
  },
  {
   "cell_type": "code",
   "execution_count": 26,
   "id": "9408f89a",
   "metadata": {},
   "outputs": [
    {
     "name": "stdout",
     "output_type": "stream",
     "text": [
      "56 is even\n"
     ]
    }
   ],
   "source": [
    "num = int(input(\"Enter a number: \"))\n",
    "print(evenodd(num))\n"
   ]
  },
  {
   "cell_type": "code",
   "execution_count": null,
   "id": "336160cc",
   "metadata": {},
   "outputs": [],
   "source": [
    "#Write a program chatbot that uses a while loop to answer questions about data science and AI"
   ]
  },
  {
   "cell_type": "code",
   "execution_count": null,
   "id": "8441d11f",
   "metadata": {},
   "outputs": [],
   "source": [
    "#Read on decorators\n",
    "#List manipulation(DS)"
   ]
  },
  {
   "cell_type": "code",
   "execution_count": null,
   "id": "3f588452",
   "metadata": {},
   "outputs": [],
   "source": [
    "#List prime numbers in comprehension loops"
   ]
  },
  {
   "cell_type": "code",
   "execution_count": null,
   "id": "fd2d15ec",
   "metadata": {},
   "outputs": [],
   "source": [
    "#Write a class car with attributes brand and year, add a method called display() that prints a formatted string\n",
    "class Car:\n",
    "    def __init__(self,brand,year):\n",
    "     self.brand=brand\n",
    "     self.year=year\n",
    "\n",
    "    def display(self):\n",
    "     return f\"This car's brand is {self.brand} with its' YOM as {self.year}\""
   ]
  },
  {
   "cell_type": "code",
   "execution_count": 3,
   "id": "533177df",
   "metadata": {},
   "outputs": [
    {
     "name": "stdout",
     "output_type": "stream",
     "text": [
      "This car's brand is Audi with its' YOM as 2018\n",
      "This car's brand is Range Rover with its' YOM as 2019\n"
     ]
    }
   ],
   "source": [
    "car1=Car(\"Audi\", 2018)\n",
    "car2=Car(\"Range Rover\", 2019)\n",
    "print(car1.display())\n",
    "print(car2.display())"
   ]
  },
  {
   "cell_type": "code",
   "execution_count": null,
   "id": "c0332375",
   "metadata": {},
   "outputs": [],
   "source": [
    "#Create class Employee with name and salary\n",
    "#Create a subclass manager with an extra department attribute and add a method called display , o display all full details\n",
    "#Using super() in the q"
   ]
  },
  {
   "cell_type": "code",
   "execution_count": 4,
   "id": "a3280cb6",
   "metadata": {},
   "outputs": [],
   "source": [
    "class Employee:\n",
    "    def __init__(self,name,salary):\n",
    "        self.name=name\n",
    "        self.salary=salary\n",
    "\n",
    "    def display(self):\n",
    "        return f\"{self.name} earns {self.salary} and is from {self.department} department\""
   ]
  },
  {
   "cell_type": "code",
   "execution_count": 5,
   "id": "c119c4a4",
   "metadata": {},
   "outputs": [],
   "source": [
    "class Manager(Employee):\n",
    "    def __init__(self,name,salary,department):\n",
    "     super().__init__(name,salary)\n",
    "     self.department=department\n",
    "\n",
    "    def display(self):\n",
    "        return f\"{self.name} earns {self.salary} and is from the {self.department} department\""
   ]
  },
  {
   "cell_type": "code",
   "execution_count": 6,
   "id": "fd44d324",
   "metadata": {},
   "outputs": [
    {
     "name": "stdout",
     "output_type": "stream",
     "text": [
      "Tucker earns 90000 and is from the I.T department\n",
      "Chester earns 130000 and is from the Event Planning department\n"
     ]
    }
   ],
   "source": [
    "employee1=Manager(\"Tucker\",90000,\"I.T\")\n",
    "employee2=Manager(\"Chester\",130000,\"Event Planning\")\n",
    "print(employee1.display())\n",
    "print(employee2.display())"
   ]
  }
 ],
 "metadata": {
  "kernelspec": {
   "display_name": "Python 3",
   "language": "python",
   "name": "python3"
  },
  "language_info": {
   "codemirror_mode": {
    "name": "ipython",
    "version": 3
   },
   "file_extension": ".py",
   "mimetype": "text/x-python",
   "name": "python",
   "nbconvert_exporter": "python",
   "pygments_lexer": "ipython3",
   "version": "3.12.10"
  }
 },
 "nbformat": 4,
 "nbformat_minor": 5
}
