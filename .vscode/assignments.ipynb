{
 "cells": [
  {
   "cell_type": "markdown",
   "id": "f9348326",
   "metadata": {},
   "source": [
    "ASSIGNMENT Q's"
   ]
  },
  {
   "cell_type": "code",
   "execution_count": null,
   "id": "3cde4a52",
   "metadata": {},
   "outputs": [],
   "source": [
    "#Write a function that checks if a number is even or odd (normal function)\n",
    "\n",
    "#Declaration\n",
    "def evenorodd():\n",
    "  num=int(input(\"Enter a number: \"))\n",
    "  if num % 2 ==0:\n",
    "   print(f\"{num} is an even number\")\n",
    "  else:\n",
    "   print(f\"{num} is an odd number\")"
   ]
  },
  {
   "cell_type": "code",
   "execution_count": null,
   "id": "3b37d09e",
   "metadata": {},
   "outputs": [
    {
     "name": "stdout",
     "output_type": "stream",
     "text": [
      "76 is an even number\n"
     ]
    }
   ],
   "source": [
    "#Implementation\n",
    "eod1=evenorodd()"
   ]
  },
  {
   "cell_type": "code",
   "execution_count": null,
   "id": "a0a93a88",
   "metadata": {},
   "outputs": [],
   "source": [
    "#Write a python function that checks if a number is even or odd (lambda function)\n",
    "\n",
    "#Declaration\n",
    "evenodd= lambda num: f\"{num} is even\" if num%2==0 else f\"{num} is odd\""
   ]
  },
  {
   "cell_type": "code",
   "execution_count": null,
   "id": "9408f89a",
   "metadata": {},
   "outputs": [
    {
     "name": "stdout",
     "output_type": "stream",
     "text": [
      "56 is even\n"
     ]
    }
   ],
   "source": [
    "#Implementation\n",
    "num = int(input(\"Enter a number: \"))\n",
    "print(evenodd(num))\n"
   ]
  },
  {
   "cell_type": "code",
   "execution_count": 1,
   "id": "336160cc",
   "metadata": {},
   "outputs": [
    {
     "name": "stdout",
     "output_type": "stream",
     "text": [
      "Artificial Intelligence (AI) is the ability of a computer or machine to perform tasks that typically require human intelligence, like thinking, learning, and making decisions\n",
      "Artificial Intelligence (AI) is the ability of a computer or machine to perform tasks that typically require human intelligence, like thinking, learning, and making decisions\n",
      "Goodbye!\n"
     ]
    }
   ],
   "source": [
    "#Write a program chatbot that uses a while loop to answer questions about data science and AI\n",
    "while True:\n",
    "    question = input(\"Enter a question on Data Science and AI here: (type 'exit' to quit)\")\n",
    "\n",
    "    if question.lower() == \"exit\":\n",
    "        print(\"Goodbye!\")\n",
    "        breakec\n",
    "\n",
    "    elif question.lower() == \"what is data science?\":\n",
    "        print(\"Data Science  is an interdisciplinary field that extracts meaningful insights and knowledge from data using scientific methods, algorithms, and systems to solve complex problems and inform decision-making\")\n",
    "\n",
    "    elif question.lower() == \"what is ai?\":\n",
    "        print(\"Artificial Intelligence (AI) is the ability of a computer or machine to perform tasks that typically require human intelligence, like thinking, learning, and making decisions\")\n",
    "\n",
    "    elif question.lower() == \"branches of data science\":\n",
    "        print(\"Data Analytics, Machine Learning and AI, Data Engineering, Data Mining, and Data Visualization. Other key areas and specializations within data science are Statistics and Probability, Big Data, Natural Language Processing (NLP), and Business Intelligence (BI).\")\n",
    "\n",
    "    elif question.lower() == \"applications of data science\":\n",
    "        print(\"Healthcare for disease prediction and personalized medicine, Finance for fraud detection and risk management, and E-commerce for customer behavior analysis and product recommendations\")\n",
    "\n",
    "    elif question.lower() == \"branches of ai\":\n",
    "        print(\"Machine Learning, Deep Learning, Generative AI, Robotics, Natural Language Processing, Computer Vision\")\n",
    "\n",
    "    elif question.lower() == \"applications of ai\":\n",
    "        print(\"Digital assistants and personalized recommendations for online services, Self-driving cars and traffic management in transportation, Fraud detection and personalized services in finance, Adaptive learning and personalized lesson plans in education, and Precision farming and resource management in agriculture. \")\n",
    "\n",
    "    else:\n",
    "        print(\"I don't know the answer to that yet, check back later!\")"
   ]
  },
  {
   "cell_type": "code",
   "execution_count": 3,
   "id": "3f588452",
   "metadata": {},
   "outputs": [
    {
     "name": "stdout",
     "output_type": "stream",
     "text": [
      "[1, 3, 5, 7, 9, 11, 13, 15, 17, 19, 21, 23, 25, 27, 29, 31, 33, 35, 37, 39, 41, 43, 45, 47, 49, 51, 53, 55, 57, 59, 61, 63, 65, 67, 69, 71, 73, 75, 77, 79, 81, 83, 85, 87, 89, 91, 93, 95, 97, 99, 101, 103, 105, 107, 109, 111, 113, 115, 117, 119, 121, 123, 125, 127, 129, 131, 133, 135, 137, 139, 141, 143, 145, 147, 149, 151, 153, 155, 157, 159, 161, 163, 165, 167, 169, 171, 173, 175, 177, 179, 181, 183, 185, 187, 189, 191, 193, 195, 197, 199, 201, 203, 205, 207, 209, 211, 213, 215, 217, 219, 221, 223, 225, 227, 229, 231, 233, 235, 237, 239, 241, 243, 245, 247, 249, 251, 253, 255, 257, 259, 261, 263, 265, 267, 269, 271, 273, 275, 277, 279, 281, 283, 285, 287, 289, 291, 293, 295, 297, 299, 301, 303, 305, 307, 309, 311, 313, 315, 317, 319, 321, 323, 325, 327, 329, 331, 333, 335, 337, 339, 341, 343, 345, 347, 349, 351, 353, 355, 357, 359, 361, 363, 365, 367, 369, 371, 373, 375, 377, 379, 381, 383, 385, 387, 389, 391, 393, 395, 397, 399, 401, 403, 405, 407, 409, 411, 413, 415, 417, 419, 421, 423, 425, 427, 429, 431, 433, 435, 437, 439, 441, 443, 445, 447, 449, 451, 453, 455, 457, 459, 461, 463, 465, 467, 469, 471, 473, 475, 477, 479, 481, 483, 485, 487, 489, 491, 493, 495, 497, 499, 501, 503, 505, 507, 509, 511, 513, 515, 517, 519, 521, 523, 525, 527, 529, 531, 533, 535, 537, 539, 541, 543, 545, 547, 549, 551, 553, 555, 557, 559, 561, 563, 565, 567, 569, 571, 573, 575, 577, 579, 581, 583, 585, 587, 589, 591, 593, 595, 597, 599, 601, 603, 605, 607, 609, 611, 613, 615, 617, 619, 621, 623, 625, 627, 629, 631, 633, 635, 637, 639, 641, 643, 645, 647, 649, 651, 653, 655, 657, 659, 661, 663, 665, 667, 669, 671, 673, 675, 677, 679, 681, 683, 685, 687, 689, 691, 693, 695, 697, 699, 701, 703, 705, 707, 709, 711, 713, 715, 717, 719, 721, 723, 725, 727, 729, 731, 733, 735, 737, 739, 741, 743, 745, 747, 749, 751, 753, 755, 757, 759, 761, 763, 765, 767, 769, 771, 773, 775, 777, 779, 781, 783, 785, 787, 789, 791, 793, 795, 797, 799, 801, 803, 805, 807, 809, 811, 813, 815, 817, 819, 821, 823, 825, 827, 829, 831, 833, 835, 837, 839, 841, 843, 845, 847, 849, 851, 853, 855, 857, 859, 861, 863, 865, 867, 869, 871, 873, 875, 877, 879, 881, 883, 885, 887, 889, 891, 893, 895, 897, 899, 901, 903, 905, 907, 909, 911, 913, 915, 917, 919, 921, 923, 925, 927, 929, 931, 933, 935, 937, 939, 941, 943, 945, 947, 949, 951, 953, 955, 957, 959, 961, 963, 965, 967, 969, 971, 973, 975, 977, 979, 981, 983, 985, 987, 989, 991, 993, 995, 997, 999]\n"
     ]
    }
   ],
   "source": [
    "#List prime numbers in comprehension loops\n",
    "primenums=[i for i in range(1,1000) if i%2==1]\n",
    "print(primenums)\n"
   ]
  },
  {
   "cell_type": "code",
   "execution_count": null,
   "id": "fd2d15ec",
   "metadata": {},
   "outputs": [],
   "source": [
    "#Write a class car with attributes brand and year, add a method called display() that prints a formatted string\n",
    "class Car:\n",
    "    def __init__(self,brand,year):\n",
    "     self.brand=brand\n",
    "     self.year=year\n",
    "\n",
    "    def display(self):\n",
    "     return f\"This car's brand is {self.brand} with its' YOM as {self.year}\""
   ]
  },
  {
   "cell_type": "code",
   "execution_count": 3,
   "id": "533177df",
   "metadata": {},
   "outputs": [
    {
     "name": "stdout",
     "output_type": "stream",
     "text": [
      "This car's brand is Audi with its' YOM as 2018\n",
      "This car's brand is Range Rover with its' YOM as 2019\n"
     ]
    }
   ],
   "source": [
    "car1=Car(\"Audi\", 2018)\n",
    "car2=Car(\"Range Rover\", 2019)\n",
    "print(car1.display())\n",
    "print(car2.display())"
   ]
  },
  {
   "cell_type": "code",
   "execution_count": null,
   "id": "c0332375",
   "metadata": {},
   "outputs": [],
   "source": [
    "#Create class Employee with name and salary\n",
    "#Create a subclass manager with an extra department attribute and add a method called display , o display all full details\n",
    "#Using super() in the q"
   ]
  },
  {
   "cell_type": "code",
   "execution_count": 4,
   "id": "a3280cb6",
   "metadata": {},
   "outputs": [],
   "source": [
    "class Employee:\n",
    "    def __init__(self,name,salary):\n",
    "        self.name=name\n",
    "        self.salary=salary\n",
    "\n",
    "    def display(self):\n",
    "        return f\"{self.name} earns {self.salary} and is from {self.department} department\""
   ]
  },
  {
   "cell_type": "code",
   "execution_count": 5,
   "id": "c119c4a4",
   "metadata": {},
   "outputs": [],
   "source": [
    "class Manager(Employee):\n",
    "    def __init__(self,name,salary,department):\n",
    "     super().__init__(name,salary)\n",
    "     self.department=department\n",
    "\n",
    "    def display(self):\n",
    "        return f\"{self.name} earns {self.salary} and is from the {self.department} department\""
   ]
  },
  {
   "cell_type": "code",
   "execution_count": 6,
   "id": "fd44d324",
   "metadata": {},
   "outputs": [
    {
     "name": "stdout",
     "output_type": "stream",
     "text": [
      "Tucker earns 90000 and is from the I.T department\n",
      "Chester earns 130000 and is from the Event Planning department\n"
     ]
    }
   ],
   "source": [
    "employee1=Manager(\"Tucker\",90000,\"I.T\")\n",
    "employee2=Manager(\"Chester\",130000,\"Event Planning\")\n",
    "print(employee1.display())\n",
    "print(employee2.display())"
   ]
  }
 ],
 "metadata": {
  "kernelspec": {
   "display_name": "Python 3",
   "language": "python",
   "name": "python3"
  },
  "language_info": {
   "codemirror_mode": {
    "name": "ipython",
    "version": 3
   },
   "file_extension": ".py",
   "mimetype": "text/x-python",
   "name": "python",
   "nbconvert_exporter": "python",
   "pygments_lexer": "ipython3",
   "version": "3.12.10"
  }
 },
 "nbformat": 4,
 "nbformat_minor": 5
}
