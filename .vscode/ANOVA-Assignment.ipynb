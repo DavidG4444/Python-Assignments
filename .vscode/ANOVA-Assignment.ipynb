{
 "cells": [
  {
   "cell_type": "markdown",
   "id": "d63563b1",
   "metadata": {},
   "source": [
    "#### 1. Marketing Campaign Effectiveness\n"
   ]
  },
  {
   "cell_type": "code",
   "execution_count": 4,
   "id": "8c35779d",
   "metadata": {},
   "outputs": [],
   "source": [
    "#Import Libraries\n",
    "import pandas as pd\n",
    "import numpy as np\n",
    "from scipy.stats import f_oneway\n"
   ]
  },
  {
   "cell_type": "code",
   "execution_count": 5,
   "id": "86d8d8f1",
   "metadata": {},
   "outputs": [],
   "source": [
    "#Sample Data\n",
    "campaign_A = [12, 15, 14, 10, 13, 15, 11, 14, 13, 16]\n",
    "campaign_B = [18, 17, 16, 15, 20, 19, 18, 16, 17, 19]\n",
    "campaign_C = [10, 9, 11, 10, 12, 9, 11, 8, 10, 9]\n"
   ]
  },
  {
   "cell_type": "code",
   "execution_count": 6,
   "id": "2601e5f3",
   "metadata": {},
   "outputs": [],
   "source": [
    "#Define the null and alt hypothesis\n",
    "alternative_hypothesis = \"There is a statistically significant difference in the mean conversion rates among the campaigns and we can conclude that at least one campaign performed significantly differently from the others.\"\n",
    "null_hypothesis = \"There is no significant difference in the mean conversion rates among the campaigns and we can conclude that no campaign performed significantly differently from the others.\""
   ]
  },
  {
   "cell_type": "code",
   "execution_count": 7,
   "id": "36523080",
   "metadata": {},
   "outputs": [],
   "source": [
    "# Significance level\n",
    "alpha = 0.05"
   ]
  },
  {
   "cell_type": "code",
   "execution_count": 8,
   "id": "9104c6cc",
   "metadata": {},
   "outputs": [],
   "source": [
    "# Perform one-way ANOVA\n",
    "f_stat, p_val = f_oneway(campaign_A, campaign_B, campaign_C)\n"
   ]
  },
  {
   "cell_type": "code",
   "execution_count": 9,
   "id": "b190e925",
   "metadata": {},
   "outputs": [
    {
     "name": "stdout",
     "output_type": "stream",
     "text": [
      "F-statistic: 57.97\n",
      "p-value: 0.0000000002\n"
     ]
    }
   ],
   "source": [
    "# Display results\n",
    "print(f\"F-statistic: {f_stat:.2f}\")\n",
    "print(f\"p-value: {p_val:.10f}\")"
   ]
  },
  {
   "cell_type": "code",
   "execution_count": 10,
   "id": "c8e793c2",
   "metadata": {},
   "outputs": [
    {
     "name": "stdout",
     "output_type": "stream",
     "text": [
      "Based on the current evidence and testing, There is a statistically significant difference in the mean conversion rates among the campaigns and we can conclude that at least one campaign performed significantly differently from the others.\n"
     ]
    }
   ],
   "source": [
    "if p_val<alpha:\n",
    "   print(f\"Based on the current evidence and testing, {alternative_hypothesis}\")\n",
    "else:\n",
    "    print(f\"Based on the current evidence and testing, {null_hypothesis}\")"
   ]
  },
  {
   "cell_type": "code",
   "execution_count": 11,
   "id": "6c76256b",
   "metadata": {},
   "outputs": [],
   "source": [
    "#Question:\n",
    "\n",
    "#Is there a statistically significant difference in conversion rates among the three campaigns? (Use α = 0.05)\n",
    "\n",
    "#Answer:\n",
    "\n",
    "#Based on the current evidence and testing, There is a statistically significant difference in the mean conversion rates among the campaigns and we can conclude that at least one campaign performed significantly differently from the others.\n"
   ]
  },
  {
   "cell_type": "markdown",
   "id": "04a7af07",
   "metadata": {},
   "source": [
    "#### 2. Fertilizer Type vs Crop Yield\n"
   ]
  },
  {
   "cell_type": "code",
   "execution_count": 12,
   "id": "e772f8cd",
   "metadata": {},
   "outputs": [],
   "source": [
    "#Import Libraries\n",
    "#import pandas as pd\n",
    "#from scipy.stats import f_oneway"
   ]
  },
  {
   "cell_type": "code",
   "execution_count": 13,
   "id": "2d29d7b6",
   "metadata": {},
   "outputs": [],
   "source": [
    "#Sample Data\n",
    "fertilizer_A = [25, 27, 26, 30, 29, 28, 30, 27]\n",
    "fertilizer_B = [32, 35, 34, 33, 36, 34, 35, 32]\n",
    "fertilizer_C = [22, 20, 24, 23, 25, 21, 22, 23]"
   ]
  },
  {
   "cell_type": "code",
   "execution_count": 14,
   "id": "bdba9ac0",
   "metadata": {},
   "outputs": [],
   "source": [
    "#Define the null and alt hypothesis\n",
    "alternative_hypothesis1 = \"There is a significant difference in the yield among the fertilizers and we can conclude that at least one fertilizer type performed significantly differently from the others.\"\n",
    "null_hypothesis1 = \"There is no significant difference in the yield among the fertilizers and we can conclude that no fertilizer type performed significantly differently from the others.\""
   ]
  },
  {
   "cell_type": "code",
   "execution_count": 15,
   "id": "82dcf41e",
   "metadata": {},
   "outputs": [],
   "source": [
    "# Perform one-way ANOVA\n",
    "f_stat1, p_val1 = f_oneway(fertilizer_A, fertilizer_B, fertilizer_C)"
   ]
  },
  {
   "cell_type": "code",
   "execution_count": 16,
   "id": "49a0e540",
   "metadata": {},
   "outputs": [
    {
     "name": "stdout",
     "output_type": "stream",
     "text": [
      "F-statistic: 96.59\n",
      "P-value: 0.00000000002572\n"
     ]
    }
   ],
   "source": [
    "# Display results\n",
    "print(f\"F-statistic: {f_stat1:.2f}\")\n",
    "print(f\"P-value: {p_val1:.14f}\")"
   ]
  },
  {
   "cell_type": "code",
   "execution_count": 17,
   "id": "3c4517bc",
   "metadata": {},
   "outputs": [
    {
     "name": "stdout",
     "output_type": "stream",
     "text": [
      "Based on the current evidence and testing, There is a statistically significant difference in the mean conversion rates among the campaigns and we can conclude that at least one campaign performed significantly differently from the others.\n"
     ]
    }
   ],
   "source": [
    "if p_val<alpha:\n",
    "   print(f\"Based on the current evidence and testing, {alternative_hypothesis}\")\n",
    "else:\n",
    "    print(f\"Based on the current evidence and testing, {null_hypothesis}\")"
   ]
  },
  {
   "cell_type": "code",
   "execution_count": 18,
   "id": "a7684e81",
   "metadata": {},
   "outputs": [
    {
     "name": "stdout",
     "output_type": "stream",
     "text": [
      "['A', 'A', 'A', 'A', 'A', 'A', 'A', 'A', 'B', 'B', 'B', 'B', 'B', 'B', 'B', 'B', 'C', 'C', 'C', 'C', 'C', 'C', 'C', 'C']\n",
      "Multiple Comparison of Means - Tukey HSD, FWER=0.05 \n",
      "====================================================\n",
      "group1 group2 meandiff p-adj  lower    upper  reject\n",
      "----------------------------------------------------\n",
      "     A      B    6.125   0.0   4.0601  8.1899   True\n",
      "     A      C    -5.25   0.0  -7.3149 -3.1851   True\n",
      "     B      C  -11.375   0.0 -13.4399 -9.3101   True\n",
      "----------------------------------------------------\n"
     ]
    }
   ],
   "source": [
    "#Performing the comparison of fertilizers\n",
    "from statsmodels.stats.multicomp import pairwise_tukeyhsd\n",
    "\n",
    "# Combining data into a single array\n",
    "yields = fertilizer_A + fertilizer_B + fertilizer_C\n",
    "groups = (['A'] * 8) + (['B'] * 8) + (['C'] * 8)\n",
    "print(groups)\n",
    "\n",
    "# Tukey HSD test\n",
    "tukey_test = pairwise_tukeyhsd(yields, groups, alpha)\n",
    "print(tukey_test)"
   ]
  },
  {
   "cell_type": "code",
   "execution_count": 19,
   "id": "5efa85ca",
   "metadata": {},
   "outputs": [],
   "source": [
    "#Question:\n",
    "\n",
    "#Which fertilizer(s) seem to produce significantly different yields?\n",
    "\n",
    "#Answer:\n",
    "\n",
    "#Fertilizer B produces significantly higher crop output than A and C\n"
   ]
  },
  {
   "cell_type": "markdown",
   "id": "40918dfd",
   "metadata": {},
   "source": [
    "#### 3. Teaching Method vs Student Performance\n"
   ]
  },
  {
   "cell_type": "code",
   "execution_count": 20,
   "id": "2681f865",
   "metadata": {},
   "outputs": [],
   "source": [
    "#Import Libraries\n",
    "#import pandas as pd\n",
    "import statsmodels.api as sm\n",
    "from statsmodels.formula.api import ols"
   ]
  },
  {
   "cell_type": "code",
   "execution_count": 21,
   "id": "a493f3b6",
   "metadata": {},
   "outputs": [
    {
     "name": "stdout",
     "output_type": "stream",
     "text": [
      "<class 'pandas.core.frame.DataFrame'>\n",
      "RangeIndex: 9 entries, 0 to 8\n",
      "Data columns (total 2 columns):\n",
      " #   Column  Non-Null Count  Dtype \n",
      "---  ------  --------------  ----- \n",
      " 0   score   9 non-null      int64 \n",
      " 1   method  9 non-null      object\n",
      "dtypes: int64(1), object(1)\n",
      "memory usage: 276.0+ bytes\n"
     ]
    }
   ],
   "source": [
    "#Sample Data\n",
    "data = {\n",
    "    'score': [78, 85, 80, 90, 88, 82, 84, 86, 92],\n",
    "    'method': ['Lecture', 'Lecture', 'Lecture',\n",
    "               'Discussion', 'Discussion', 'Discussion',\n",
    "               'Project', 'Project', 'Project']\n",
    "}\n",
    "\n",
    "#Converting sample into dataframe\n",
    "df = pd.DataFrame(data)\n",
    "df.info()"
   ]
  },
  {
   "cell_type": "code",
   "execution_count": 22,
   "id": "deba7983",
   "metadata": {},
   "outputs": [
    {
     "name": "stdout",
     "output_type": "stream",
     "text": [
      "              sum_sq   df         F    PR(>F)\n",
      "C(method)  72.666667  2.0  2.286713  0.182729\n",
      "Residual   95.333333  6.0       NaN       NaN\n"
     ]
    }
   ],
   "source": [
    "#Performing ANOVA\n",
    "formula = 'score ~ C(method)'\n",
    "model = ols(formula, data=df).fit()\n",
    "anova_table = sm.stats.anova_lm(model, typ=2)\n",
    "print(anova_table)"
   ]
  },
  {
   "cell_type": "code",
   "execution_count": 23,
   "id": "51db090e",
   "metadata": {},
   "outputs": [],
   "source": [
    "#Question:\n",
    "\n",
    "#Does the teaching method have a statistically significant effect on student performance?\n",
    "\n",
    "#Answer:\n",
    "\n",
    "#The teaching method does not have a statistically significant  effect on student performance\n"
   ]
  },
  {
   "cell_type": "markdown",
   "id": "97521fc2",
   "metadata": {},
   "source": [
    "####  4. Machine Type vs Production Quality"
   ]
  },
  {
   "cell_type": "code",
   "execution_count": 24,
   "id": "be0d6b30",
   "metadata": {},
   "outputs": [],
   "source": [
    "#Import Libraries\n",
    "#import pandas as pd\n",
    "#from scipy.stats import f_oneway"
   ]
  },
  {
   "cell_type": "code",
   "execution_count": 25,
   "id": "c698e0db",
   "metadata": {},
   "outputs": [],
   "source": [
    "#Sample Data\n",
    "machine_A = [88, 85, 87, 90, 89, 88, 86, 87]\n",
    "machine_B = [82, 84, 83, 81, 80, 83, 82, 84]\n",
    "machine_C = [91, 90, 92, 93, 94, 92, 91, 93]"
   ]
  },
  {
   "cell_type": "code",
   "execution_count": 26,
   "id": "092dac42",
   "metadata": {},
   "outputs": [],
   "source": [
    "#Define the null and alt hypothesis\n",
    "alternative_hypothesis3 = \"There is a statistically significant difference in the product quality among the machines and we can conclude that at least one machine produces significantly different quality of products from the others.\"\n",
    "null_hypothesis3 = \"There is no significant difference in the product quality among the machines and we can conclude that no machine produces significantly different quality of products from the others.\""
   ]
  },
  {
   "cell_type": "code",
   "execution_count": 27,
   "id": "83e5fba7",
   "metadata": {},
   "outputs": [],
   "source": [
    "# Perform one-way ANOVA\n",
    "f_stat, p_val = f_oneway(machine_A, machine_B, machine_C)"
   ]
  },
  {
   "cell_type": "code",
   "execution_count": 28,
   "id": "15d2054f",
   "metadata": {},
   "outputs": [
    {
     "name": "stdout",
     "output_type": "stream",
     "text": [
      "F-statistic: 88.81\n",
      "p-value: 0.000000000057\n"
     ]
    }
   ],
   "source": [
    "# Display results\n",
    "print(f\"F-statistic: {f_stat:.2f}\")\n",
    "print(f\"p-value: {p_val:.12f}\")"
   ]
  },
  {
   "cell_type": "code",
   "execution_count": 29,
   "id": "7d772156",
   "metadata": {},
   "outputs": [
    {
     "name": "stdout",
     "output_type": "stream",
     "text": [
      "Based on the current evidence and testing, There is a statistically significant difference in the mean conversion rates among the campaigns and we can conclude that at least one campaign performed significantly differently from the others.\n"
     ]
    }
   ],
   "source": [
    "if p_val<alpha:\n",
    "   print(f\"Based on the current evidence and testing, {alternative_hypothesis}\")\n",
    "else:\n",
    "    print(f\"Based on the current evidence and testing, {null_hypothesis}\")"
   ]
  },
  {
   "cell_type": "code",
   "execution_count": 30,
   "id": "06abcb4e",
   "metadata": {},
   "outputs": [
    {
     "name": "stdout",
     "output_type": "stream",
     "text": [
      "['A1', 'A1', 'A1', 'A1', 'A1', 'A1', 'A1', 'A1', 'B1', 'B1', 'B1', 'B1', 'B1', 'B1', 'B1', 'B1', 'C1', 'C1', 'C1', 'C1', 'C1', 'C1', 'C1', 'C1']\n",
      "Multiple Comparison of Means - Tukey HSD, FWER=0.05\n",
      "===================================================\n",
      "group1 group2 meandiff p-adj  lower   upper  reject\n",
      "---------------------------------------------------\n",
      "    A1     B1   -5.125   0.0 -6.9467 -3.3033   True\n",
      "    A1     C1      4.5   0.0  2.6783  6.3217   True\n",
      "    B1     C1    9.625   0.0  7.8033 11.4467   True\n",
      "---------------------------------------------------\n"
     ]
    }
   ],
   "source": [
    "#Performing the comparison of machines\n",
    "#from statsmodels.stats.multicomp import pairwise_tukeyhsd\n",
    "\n",
    "# Combining data into a single array\n",
    "produce = machine_A+ machine_B + machine_C\n",
    "bands = (['A1'] * 8) + (['B1'] * 8) + (['C1'] * 8)\n",
    "print(bands)\n",
    "\n",
    "# Tukey HSD test\n",
    "tukey_test = pairwise_tukeyhsd(produce, bands, alpha)\n",
    "print(tukey_test)"
   ]
  },
  {
   "cell_type": "code",
   "execution_count": 31,
   "id": "9b0ae067",
   "metadata": {},
   "outputs": [],
   "source": [
    "#Question:\n",
    "\n",
    "#Which machine produces items with significantly different average quality?\n",
    "\n",
    "#Answer:\n",
    "\n",
    "#Machine A produces items with significantly different average quality."
   ]
  },
  {
   "cell_type": "markdown",
   "id": "959eff96",
   "metadata": {},
   "source": [
    "####  5. Diet Plan vs Weight Loss"
   ]
  },
  {
   "cell_type": "code",
   "execution_count": 32,
   "id": "4e930f07",
   "metadata": {},
   "outputs": [],
   "source": [
    "#Import Libraries\n",
    "#import pandas as pd\n",
    "#import statsmodels.api as sm\n",
    "#from statsmodels.formula.api import ols"
   ]
  },
  {
   "cell_type": "code",
   "execution_count": 33,
   "id": "fa403a19",
   "metadata": {},
   "outputs": [
    {
     "name": "stdout",
     "output_type": "stream",
     "text": [
      "             diet  weight_loss\n",
      "0            Keto            6\n",
      "1            Keto            5\n",
      "2            Keto            7\n",
      "3            Keto            8\n",
      "4            Keto            6\n",
      "5            Keto            7\n",
      "6           Paleo            5\n",
      "7           Paleo            6\n",
      "8           Paleo            4\n",
      "9           Paleo            5\n",
      "10          Paleo            6\n",
      "11          Paleo            5\n",
      "12          Vegan            3\n",
      "13          Vegan            4\n",
      "14          Vegan            2\n",
      "15          Vegan            4\n",
      "16          Vegan            3\n",
      "17          Vegan            2\n",
      "18  Mediterranean            5\n",
      "19  Mediterranean            6\n",
      "20  Mediterranean            7\n",
      "21  Mediterranean            6\n",
      "22  Mediterranean            8\n",
      "23  Mediterranean            7\n"
     ]
    }
   ],
   "source": [
    "#Sample Data\n",
    "data1 = {\n",
    "    'diet': ['Keto']*6 + ['Paleo']*6 + ['Vegan']*6 + ['Mediterranean']*6,\n",
    "    'weight_loss': [6, 5, 7, 8, 6, 7, 5, 6, 4, 5, 6, 5, 3, 4, 2, 4, 3, 2, 5, 6, 7, 6, 8, 7]\n",
    "}\n",
    "\n",
    "#Converting sample into dataframe\n",
    "ds = pd.DataFrame(data1)\n",
    "print(ds)"
   ]
  },
  {
   "cell_type": "code",
   "execution_count": 34,
   "id": "3049610f",
   "metadata": {},
   "outputs": [
    {
     "name": "stdout",
     "output_type": "stream",
     "text": [
      "             sum_sq    df          F    PR(>F)\n",
      "C(diet)   49.125000   3.0  18.364486  0.000006\n",
      "Residual  17.833333  20.0        NaN       NaN\n"
     ]
    }
   ],
   "source": [
    "#Performing ANOVA\n",
    "formula1 = 'weight_loss ~ C(diet)'\n",
    "model1 = ols(formula1, data=ds).fit()\n",
    "anova_diet_table = sm.stats.anova_lm(model1, typ=2)\n",
    "print(anova_diet_table)"
   ]
  },
  {
   "cell_type": "code",
   "execution_count": 35,
   "id": "9ace0bc2",
   "metadata": {},
   "outputs": [
    {
     "name": "stdout",
     "output_type": "stream",
     "text": [
      "diet\n",
      "Keto             6.500000\n",
      "Mediterranean    6.500000\n",
      "Paleo            5.166667\n",
      "Vegan            3.000000\n",
      "Name: weight_loss, dtype: float64\n"
     ]
    }
   ],
   "source": [
    "#Performing the comparison of diets\n",
    "mean_scores = ds.groupby('diet')['weight_loss'].mean()\n",
    "\n",
    "print(mean_scores)\n"
   ]
  },
  {
   "cell_type": "code",
   "execution_count": 36,
   "id": "4adfea45",
   "metadata": {},
   "outputs": [],
   "source": [
    "#Question:\n",
    "\n",
    "#Is there a significant difference in mean weight loss among the four diets?\n",
    "\n",
    "#Answer:\n",
    "\n",
    "#There is a significant difference in mean weight loss among the four diets"
   ]
  }
 ],
 "metadata": {
  "kernelspec": {
   "display_name": "myvirtualenv (3.12.10)",
   "language": "python",
   "name": "python3"
  },
  "language_info": {
   "codemirror_mode": {
    "name": "ipython",
    "version": 3
   },
   "file_extension": ".py",
   "mimetype": "text/x-python",
   "name": "python",
   "nbconvert_exporter": "python",
   "pygments_lexer": "ipython3",
   "version": "3.12.10"
  }
 },
 "nbformat": 4,
 "nbformat_minor": 5
}
